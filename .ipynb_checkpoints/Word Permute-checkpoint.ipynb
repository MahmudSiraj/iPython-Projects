{
 "cells": [
  {
   "cell_type": "code",
   "execution_count": 2,
   "metadata": {},
   "outputs": [
    {
     "name": "stdout",
     "output_type": "stream",
     "text": [
      "a b c\n",
      "a c b\n",
      "b a c\n",
      "b c a\n",
      "c a b\n",
      "c b a\n"
     ]
    }
   ],
   "source": [
    "def Permute(word, n):\n",
    "    cWord = list(word)\n",
    "    if n == len(word):\n",
    "        print(\" \".join(cWord))\n",
    "    else:\n",
    "        for i in range(n, len(word)):\n",
    "            temp = cWord[n]\n",
    "            cWord[n] = cWord[i]\n",
    "            cWord[i] = temp\n",
    "            Permute(\"\".join(cWord), n+1)\n",
    "\n",
    "\n",
    "\n",
    "\n",
    "\n",
    "Permute(\"abc\", 0)"
   ]
  },
  {
   "cell_type": "code",
   "execution_count": null,
   "metadata": {},
   "outputs": [],
   "source": []
  }
 ],
 "metadata": {
  "kernelspec": {
   "display_name": "Python 3",
   "language": "python",
   "name": "python3"
  },
  "language_info": {
   "codemirror_mode": {
    "name": "ipython",
    "version": 3
   },
   "file_extension": ".py",
   "mimetype": "text/x-python",
   "name": "python",
   "nbconvert_exporter": "python",
   "pygments_lexer": "ipython3",
   "version": "3.6.8"
  }
 },
 "nbformat": 4,
 "nbformat_minor": 2
}
