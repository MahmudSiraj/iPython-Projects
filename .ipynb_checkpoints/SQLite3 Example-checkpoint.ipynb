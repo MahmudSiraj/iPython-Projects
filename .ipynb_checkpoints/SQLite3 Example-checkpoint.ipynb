{
 "cells": [
  {
   "cell_type": "code",
   "execution_count": 1,
   "metadata": {},
   "outputs": [],
   "source": [
    "import sqlite3"
   ]
  },
  {
   "cell_type": "code",
   "execution_count": 2,
   "metadata": {},
   "outputs": [],
   "source": [
    "# connection objects represent the database, to access a database first construct a connection\n",
    "\n",
    "conn = sqlite3.Connection('example.db')"
   ]
  },
  {
   "cell_type": "code",
   "execution_count": 3,
   "metadata": {},
   "outputs": [
    {
     "data": {
      "text/plain": [
       "<sqlite3.Cursor at 0x103c80730>"
      ]
     },
     "execution_count": 3,
     "metadata": {},
     "output_type": "execute_result"
    }
   ],
   "source": [
    "#  database cursor - used to manage the context of a fetch operation\n",
    "\n",
    "c = conn.cursor()\n",
    "\n",
    "c.execute('''CREATE TABLE employees (first_name text, second_name text, ID int)''')\n",
    "c.execute('''INSERT INTO employees VALUES ('Mahmud', 'Siraj', 1)''')\n",
    "\n",
    "# save the changes\n",
    "conn.commit()"
   ]
  },
  {
   "cell_type": "code",
   "execution_count": 16,
   "metadata": {},
   "outputs": [
    {
     "data": {
      "text/plain": [
       "<sqlite3.Cursor at 0x103c80730>"
      ]
     },
     "execution_count": 16,
     "metadata": {},
     "output_type": "execute_result"
    }
   ],
   "source": [
    "# to prevent SQL injection use DB-API parameter substitution\n",
    "\n",
    "t = [('Liva', 'Sikder', 2), ('Shaheda', 'Siraj', 3), ('Cristiano', 'Ronaldo', 4)]\n",
    "\n",
    "c.executemany('''INSERT INTO employees VALUES (?,?,?)''', t)"
   ]
  },
  {
   "cell_type": "code",
   "execution_count": 18,
   "metadata": {},
   "outputs": [
    {
     "name": "stdout",
     "output_type": "stream",
     "text": [
      "('Mahmud', 'Siraj', 1)\n",
      "('Liva', 'Sikder', 2)\n",
      "('Liva', 'Sikder', 2)\n",
      "('Shaheda', 'Siraj', 3)\n",
      "('Cristiano', 'Ronaldo', 4)\n"
     ]
    }
   ],
   "source": [
    "# To retrieve data after executing a SELECT statement:\n",
    "#\n",
    "#    1. Treat the cursor as an iterator \n",
    "#    2. Call the cursor’s fetchone() method to retrieve a single matching row\n",
    "#    3. Call fetchall() to get a list of the matching rows.\n",
    "\n",
    "\n",
    "for row in c.execute('''SELECT * FROM employees'''):\n",
    "    print(row)"
   ]
  },
  {
   "cell_type": "code",
   "execution_count": 19,
   "metadata": {},
   "outputs": [],
   "source": [
    "# Create a custom aggregate function\n",
    "\n",
    "class MySum:\n",
    "    def __init__(self):\n",
    "        self.count = 0\n",
    "        \n",
    "    def step(self, value): #the me\n",
    "        self.count += value\n",
    "        \n",
    "    def finanlize(self):\n",
    "        return self.count"
   ]
  }
 ],
 "metadata": {
  "kernelspec": {
   "display_name": "Python 3",
   "language": "python",
   "name": "python3"
  },
  "language_info": {
   "codemirror_mode": {
    "name": "ipython",
    "version": 3
   },
   "file_extension": ".py",
   "mimetype": "text/x-python",
   "name": "python",
   "nbconvert_exporter": "python",
   "pygments_lexer": "ipython3",
   "version": "3.6.8"
  }
 },
 "nbformat": 4,
 "nbformat_minor": 2
}
