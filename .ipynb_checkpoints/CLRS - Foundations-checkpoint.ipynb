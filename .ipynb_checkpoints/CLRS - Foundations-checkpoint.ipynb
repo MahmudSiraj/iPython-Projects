{
 "cells": [
  {
   "cell_type": "code",
   "execution_count": 3,
   "metadata": {},
   "outputs": [],
   "source": [
    "import random\n",
    "import math"
   ]
  },
  {
   "cell_type": "code",
   "execution_count": 62,
   "metadata": {},
   "outputs": [],
   "source": [
    "# average case running-time is Big-Theta(n^2)\n",
    "\n",
    "def insertion_sort(A):\n",
    "    for j in range(1, len(A)):\n",
    "        key = A[j]\n",
    "        #Insert A[j] into the sorted sequence A[1,2,..,j-1]\n",
    "        i = j - 1\n",
    "        while(i >= 0 and A[i] > key):\n",
    "            A[i+1] = A[i]\n",
    "            i = i-1\n",
    "        A[i + 1] = key\n",
    "    return A"
   ]
  },
  {
   "cell_type": "code",
   "execution_count": 22,
   "metadata": {},
   "outputs": [],
   "source": [
    "# 2.1.3\n",
    "\n",
    "# average case running-time is Big-Theta(n)\n",
    "\n",
    "def linear_search(v, A):\n",
    "    for i in range(1, len(A)):\n",
    "        if A[i] == v:\n",
    "            return i;\n",
    "    return None;"
   ]
  },
  {
   "cell_type": "code",
   "execution_count": 10,
   "metadata": {},
   "outputs": [],
   "source": [
    "# 2.2.2\n",
    "\n",
    "# average case running-time is Big-Theta(n^2)\n",
    "\n",
    "def selection_sort(A):\n",
    "    for i in range(0,len(A)-1):\n",
    "        key = i\n",
    "        # find the minimum value and its index in A \n",
    "        for j in range(i + 1, len(A)):\n",
    "            if A[j] < A[key]:\n",
    "                key = j\n",
    "        # swap A[i] with minimum value in A\n",
    "        temp = A[i]\n",
    "        A[i] = A[key]\n",
    "        A[key] = temp\n",
    "    return A"
   ]
  },
  {
   "cell_type": "code",
   "execution_count": 125,
   "metadata": {},
   "outputs": [],
   "source": [
    "# merge sort - Big-Theta(n)\n",
    "\n",
    "def merge(A, p, q, r):\n",
    "    n1 = q - p + 1\n",
    "    n2 = r - q\n",
    "    L = []\n",
    "    R = []\n",
    "    for i in range (0, n1):\n",
    "        L.append(A[p + i])\n",
    "    for j in range (0, n2):\n",
    "        R.append(A[q + j + 1])\n",
    "    L.append(math.inf) # sentinel value\n",
    "    R.append(math.inf) # sentinel value\n",
    "    i = 0\n",
    "    j = 0\n",
    "    for k in range(p, r + 1):\n",
    "        if L[i] < R[j]:\n",
    "            A[k] = L[i]\n",
    "            i += 1\n",
    "        else: \n",
    "            A[k] = R[j]\n",
    "            j += 1\n",
    "\n",
    "            \n",
    "def merge_sort(A, p, r):\n",
    "    if p < r:\n",
    "        q = math.floor((p + r)/2)\n",
    "        merge_sort(A, p, q)\n",
    "        merge_sort(A, q + 1, r)\n",
    "        merge(A, p, q, r)"
   ]
  },
  {
   "cell_type": "code",
   "execution_count": 126,
   "metadata": {},
   "outputs": [
    {
     "data": {
      "text/plain": [
       "[56, 12, 53, 14]"
      ]
     },
     "execution_count": 126,
     "metadata": {},
     "output_type": "execute_result"
    }
   ],
   "source": [
    "A =[]\n",
    "for i in range(0,4):\n",
    "    A.append(random.randint(0,100))\n",
    "A  "
   ]
  },
  {
   "cell_type": "code",
   "execution_count": 127,
   "metadata": {},
   "outputs": [
    {
     "data": {
      "text/plain": [
       "[12, 14, 53, 56]"
      ]
     },
     "execution_count": 127,
     "metadata": {},
     "output_type": "execute_result"
    }
   ],
   "source": [
    "merge_sort(A, 0, 3)\n",
    "\n",
    "A"
   ]
  },
  {
   "cell_type": "code",
   "execution_count": null,
   "metadata": {},
   "outputs": [],
   "source": []
  }
 ],
 "metadata": {
  "kernelspec": {
   "display_name": "Python 3",
   "language": "python",
   "name": "python3"
  },
  "language_info": {
   "codemirror_mode": {
    "name": "ipython",
    "version": 3
   },
   "file_extension": ".py",
   "mimetype": "text/x-python",
   "name": "python",
   "nbconvert_exporter": "python",
   "pygments_lexer": "ipython3",
   "version": "3.6.8"
  }
 },
 "nbformat": 4,
 "nbformat_minor": 2
}
