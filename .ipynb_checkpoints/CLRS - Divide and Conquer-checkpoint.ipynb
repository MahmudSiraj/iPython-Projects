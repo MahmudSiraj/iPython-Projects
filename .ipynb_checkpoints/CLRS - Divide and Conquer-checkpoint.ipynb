{
 "cells": [
  {
   "cell_type": "code",
   "execution_count": 33,
   "metadata": {},
   "outputs": [],
   "source": [
    "import math\n",
    "import random"
   ]
  },
  {
   "cell_type": "code",
   "execution_count": null,
   "metadata": {},
   "outputs": [],
   "source": [
    "# CLRS Chapter 4 - Divide and Conquer Algorithms"
   ]
  },
  {
   "cell_type": "code",
   "execution_count": 7,
   "metadata": {},
   "outputs": [],
   "source": [
    "# Find Max Crossing Sub-Array\n",
    "\n",
    "# Finds the subarray by sum total of all subarrays that cross the mid-point of an array. Running time is Big-Theta(n)\n",
    "\n",
    "def find_max_crossing_subarray(A, low, mid, high):\n",
    "    left_sum = -math.inf\n",
    "    sum = 0\n",
    "    for i in range(mid, low - 1, -1):\n",
    "        sum = sum + A[i]\n",
    "        if sum > left_sum:\n",
    "            left_sum = sum\n",
    "            max_left = i\n",
    "    right_sum = -math.inf\n",
    "    sum = 0\n",
    "    for j in range(mid + 1, high + 1):\n",
    "        sum = sum + A[j]\n",
    "        if sum > right_sum:\n",
    "            right_sum = sum\n",
    "            max_right = j\n",
    "    return(max_left, max_right, left_sum + right_sum)"
   ]
  },
  {
   "cell_type": "code",
   "execution_count": 15,
   "metadata": {},
   "outputs": [],
   "source": [
    "# Find Maximum Sub-Array\n",
    "\n",
    "# Running time is Big_theta(nlg(n))\n",
    "\n",
    "def find_max_subarray(A, low, high):\n",
    "    if high == low:\n",
    "        return (low, high, A[low])\n",
    "    else: \n",
    "        mid = math.floor((low + high)/2)\n",
    "        (left_low, left_high, left_sum) = find_max_subarray(A, low, mid)\n",
    "        (right_low, right_high, right_sum) = find_max_subarray(A, mid+1, high)\n",
    "        (cross_low, cross_high, cross_sum) = find_max_crossing_subarray(A, low, mid, high)\n",
    "        if left_sum >= right_sum and left_sum >= cross_sum:\n",
    "            return (left_low, left_high, left_sum)\n",
    "        elif right_sum >= left_sum and right_sum >= cross_sum:\n",
    "            return (right_low, right_high, right_sum)\n",
    "        else: return (cross_low, cross_high, cross_sum)\n",
    "    "
   ]
  },
  {
   "cell_type": "code",
   "execution_count": 23,
   "metadata": {},
   "outputs": [],
   "source": [
    "# Brute-force Maximum Sub-Array\n",
    "\n",
    "# Running time is Big_theta(n^2)\n",
    "\n",
    "def brute_force_max_subarray(A):\n",
    "    left = 0\n",
    "    right = 0\n",
    "    sum_max = -math.inf\n",
    "    sum = 0\n",
    "    for i in range(0, len(A)):\n",
    "        for j in range(i, len(A)):\n",
    "            sum += A[j]\n",
    "            if sum >= sum_max:\n",
    "                sum_max = sum\n",
    "                left = i\n",
    "                right = j\n",
    "        sum = 0\n",
    "    return(left, right, sum_max) "
   ]
  },
  {
   "cell_type": "code",
   "execution_count": 53,
   "metadata": {},
   "outputs": [
    {
     "data": {
      "text/plain": [
       "40"
      ]
     },
     "execution_count": 53,
     "metadata": {},
     "output_type": "execute_result"
    }
   ],
   "source": [
    "A = []\n",
    "\n",
    "for i in range(0,40):\n",
    "    A.append(random.randint(-20,20))\n",
    "\n",
    "len(A)"
   ]
  },
  {
   "cell_type": "code",
   "execution_count": 54,
   "metadata": {},
   "outputs": [
    {
     "name": "stdout",
     "output_type": "stream",
     "text": [
      "94.6 µs ± 1.28 µs per loop (mean ± std. dev. of 7 runs, 10000 loops each)\n"
     ]
    }
   ],
   "source": [
    "%%timeit \n",
    "find_max_subarray(A,0,len(A)-1)"
   ]
  },
  {
   "cell_type": "code",
   "execution_count": 55,
   "metadata": {},
   "outputs": [
    {
     "name": "stdout",
     "output_type": "stream",
     "text": [
      "95.4 µs ± 574 ns per loop (mean ± std. dev. of 7 runs, 10000 loops each)\n"
     ]
    }
   ],
   "source": [
    "%%timeit\n",
    "brute_force_max_subarray(A)"
   ]
  },
  {
   "cell_type": "code",
   "execution_count": null,
   "metadata": {},
   "outputs": [],
   "source": []
  }
 ],
 "metadata": {
  "kernelspec": {
   "display_name": "Python 3",
   "language": "python",
   "name": "python3"
  },
  "language_info": {
   "codemirror_mode": {
    "name": "ipython",
    "version": 3
   },
   "file_extension": ".py",
   "mimetype": "text/x-python",
   "name": "python",
   "nbconvert_exporter": "python",
   "pygments_lexer": "ipython3",
   "version": "3.6.8"
  }
 },
 "nbformat": 4,
 "nbformat_minor": 2
}
