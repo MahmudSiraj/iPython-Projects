{
 "cells": [
  {
   "cell_type": "code",
   "execution_count": 1,
   "metadata": {},
   "outputs": [],
   "source": [
    "import sqlite3"
   ]
  },
  {
   "cell_type": "code",
   "execution_count": 21,
   "metadata": {},
   "outputs": [],
   "source": [
    "# connection objects represent the database, to access a database first construct a connection\n",
    "\n",
    "conn = sqlite3.Connection('example.db')\n",
    "conn.row_factory = sqlite3.Row"
   ]
  },
  {
   "cell_type": "code",
   "execution_count": 22,
   "metadata": {},
   "outputs": [],
   "source": [
    "#  database cursor - used to manage the context of a fetch operation\n",
    "\n",
    "c = conn.cursor()"
   ]
  },
  {
   "cell_type": "code",
   "execution_count": 3,
   "metadata": {},
   "outputs": [
    {
     "data": {
      "text/plain": [
       "<sqlite3.Cursor at 0x103c80730>"
      ]
     },
     "execution_count": 3,
     "metadata": {},
     "output_type": "execute_result"
    }
   ],
   "source": [
    "# execute an SQL statement\n",
    "\n",
    "c.execute('''CREATE TABLE employees (first_name text, second_name text, ID int)''')\n",
    "c.execute('''INSERT INTO employees VALUES ('Mahmud', 'Siraj', 1)''')\n",
    "\n",
    "# save the changes\n",
    "conn.commit()"
   ]
  },
  {
   "cell_type": "code",
   "execution_count": 4,
   "metadata": {},
   "outputs": [
    {
     "data": {
      "text/plain": [
       "<sqlite3.Cursor at 0x103269500>"
      ]
     },
     "execution_count": 4,
     "metadata": {},
     "output_type": "execute_result"
    }
   ],
   "source": [
    "# to prevent SQL injection use DB-API parameter substitution\n",
    "# execute many will execute over entire sequence of parameters provided\n",
    "\n",
    "t = [('Liva', 'Sikder', 2), ('Shaheda', 'Siraj', 3), ('Cristiano', 'Ronaldo', 4)]\n",
    "\n",
    "c.executemany('''INSERT INTO employees VALUES (?,?,?)''', t)"
   ]
  },
  {
   "cell_type": "code",
   "execution_count": 15,
   "metadata": {},
   "outputs": [
    {
     "name": "stdout",
     "output_type": "stream",
     "text": [
      "('Mahmud', 'Siraj', 1)\n",
      "('Liva', 'Sikder', 2)\n",
      "('Liva', 'Sikder', 2)\n",
      "('Shaheda', 'Siraj', 3)\n",
      "('Cristiano', 'Ronaldo', 4)\n"
     ]
    }
   ],
   "source": [
    "# To retrieve data after executing a SELECT statement:\n",
    "#\n",
    "#    1. Treat the cursor as an iterator \n",
    "#    2. Call the cursor’s fetchone() method to retrieve a single matching row\n",
    "#    3. Call fetchall() to get a list of the matching rows.\n",
    "\n",
    "\n",
    "for row in c.execute('''SELECT * FROM employees'''):\n",
    "    print(row)"
   ]
  },
  {
   "cell_type": "code",
   "execution_count": 6,
   "metadata": {},
   "outputs": [
    {
     "name": "stdout",
     "output_type": "stream",
     "text": [
      "12\n"
     ]
    }
   ],
   "source": [
    "# Create a custom aggregate function\n",
    "\n",
    "class MySum:\n",
    "    def __init__(self):\n",
    "        self.count = 0\n",
    "        \n",
    "    def step(self, value): # method parameters are passed to\n",
    "        self.count += value\n",
    "        \n",
    "    def finalize(self): # method returning the result of the SQL statement\n",
    "        return self.count\n",
    "\n",
    "conn.create_aggregate(\"MYSUM\",1,MySum)\n",
    "c.execute('''SELECT MYSUM(ID) FROM employees''')\n",
    "print(c.fetchone()[0])"
   ]
  },
  {
   "cell_type": "code",
   "execution_count": 18,
   "metadata": {},
   "outputs": [],
   "source": [
    "# dump the database in SQL text format \n",
    "\n",
    "with open(\"dump.sql\", 'w') as f:\n",
    "    for line in conn.iterdump():\n",
    "        f.write('%s\\n' % line)"
   ]
  },
  {
   "cell_type": "code",
   "execution_count": 37,
   "metadata": {},
   "outputs": [],
   "source": [
    "c.close()\n",
    "conn.commit()\n",
    "conn.close()"
   ]
  },
  {
   "cell_type": "code",
   "execution_count": 35,
   "metadata": {},
   "outputs": [],
   "source": [
    "# create a custom data type\n",
    "\n",
    "class Point:\n",
    "    def __init__(self, x, y):\n",
    "        self.x, self.y = x, y\n",
    "        \n",
    "    def __repr__(self):\n",
    "        return \"(%f;%f)\" % (self.x, self.y)\n",
    "\n",
    "def adapt_point(point):\n",
    "    return (\"%f;%f\" % (point.x, point.y)).encode('ascii')\n",
    "\n",
    "def convert_point(s):\n",
    "    x, y = list(map(float, s.split(b\";\")))\n",
    "    return Point(x, y)\n",
    "\n",
    "# Register the adapter\n",
    "sqlite3.register_adapter(Point, adapt_point)\n",
    "\n",
    "# Register the converter\n",
    "sqlite3.register_converter(\"point\", convert_point)\n",
    "\n",
    "p = Point(4.0, -3.2)"
   ]
  },
  {
   "cell_type": "code",
   "execution_count": 38,
   "metadata": {},
   "outputs": [
    {
     "name": "stdout",
     "output_type": "stream",
     "text": [
      "with declared types: (4.000000;-3.200000)\n"
     ]
    }
   ],
   "source": [
    "#########################\n",
    "# 1) Using declared types\n",
    "con = sqlite3.connect(\":memory:\", detect_types=sqlite3.PARSE_DECLTYPES)\n",
    "cur = con.cursor()\n",
    "cur.execute(\"create table test(p point)\")\n",
    "\n",
    "cur.execute(\"insert into test(p) values (?)\", (p,))\n",
    "cur.execute(\"select p from test\")\n",
    "print(\"with declared types:\", cur.fetchone()[0])\n",
    "cur.close()\n",
    "con.close()"
   ]
  },
  {
   "cell_type": "code",
   "execution_count": 39,
   "metadata": {},
   "outputs": [
    {
     "name": "stdout",
     "output_type": "stream",
     "text": [
      "with column names: (4.000000;-3.200000)\n"
     ]
    }
   ],
   "source": [
    "#######################\n",
    "# 2) Using column names\n",
    "con = sqlite3.connect(\":memory:\", detect_types=sqlite3.PARSE_COLNAMES)\n",
    "cur = con.cursor()\n",
    "cur.execute(\"create table test(p)\")\n",
    "\n",
    "cur.execute(\"insert into test(p) values (?)\", (p,))\n",
    "cur.execute('select p as \"p [point]\" from test')\n",
    "print(\"with column names:\", cur.fetchone()[0])\n",
    "cur.close()\n",
    "con.close()"
   ]
  },
  {
   "cell_type": "code",
   "execution_count": null,
   "metadata": {},
   "outputs": [],
   "source": []
  }
 ],
 "metadata": {
  "kernelspec": {
   "display_name": "Python 3",
   "language": "python",
   "name": "python3"
  },
  "language_info": {
   "codemirror_mode": {
    "name": "ipython",
    "version": 3
   },
   "file_extension": ".py",
   "mimetype": "text/x-python",
   "name": "python",
   "nbconvert_exporter": "python",
   "pygments_lexer": "ipython3",
   "version": "3.6.8"
  }
 },
 "nbformat": 4,
 "nbformat_minor": 2
}
