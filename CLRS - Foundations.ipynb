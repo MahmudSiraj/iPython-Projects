{
 "cells": [
  {
   "cell_type": "code",
   "execution_count": 7,
   "metadata": {},
   "outputs": [],
   "source": [
    "import random\n",
    "import math"
   ]
  },
  {
   "cell_type": "code",
   "execution_count": 62,
   "metadata": {},
   "outputs": [],
   "source": [
    "# average case running-time is Big-Theta(n^2)\n",
    "\n",
    "def insertion_sort(A):\n",
    "    for j in range(1, len(A)):\n",
    "        key = A[j]\n",
    "        #Insert A[j] into the sorted sequence A[1,2,..,j-1]\n",
    "        i = j - 1\n",
    "        while(i >= 0 and A[i] > key):\n",
    "            A[i+1] = A[i]\n",
    "            i = i-1\n",
    "        A[i + 1] = key\n",
    "    return A"
   ]
  },
  {
   "cell_type": "code",
   "execution_count": 22,
   "metadata": {},
   "outputs": [],
   "source": [
    "# 2.1.3\n",
    "\n",
    "# average case running-time is Big-Theta(n)\n",
    "\n",
    "def linear_search(v, A):\n",
    "    for i in range(1, len(A)):\n",
    "        if A[i] == v:\n",
    "            return i;\n",
    "    return None;"
   ]
  },
  {
   "cell_type": "code",
   "execution_count": 10,
   "metadata": {},
   "outputs": [],
   "source": [
    "# 2.2.2\n",
    "\n",
    "# average case running-time is Big-Theta(n^2)\n",
    "\n",
    "def selection_sort(A):\n",
    "    for i in range(0,len(A)-1):\n",
    "        key = i\n",
    "        # find the minimum value and its index in A \n",
    "        for j in range(i + 1, len(A)):\n",
    "            if A[j] < A[key]:\n",
    "                key = j\n",
    "        # swap A[i] with minimum value in A\n",
    "        temp = A[i]\n",
    "        A[i] = A[key]\n",
    "        A[key] = temp\n",
    "    return A"
   ]
  },
  {
   "cell_type": "code",
   "execution_count": 125,
   "metadata": {},
   "outputs": [],
   "source": [
    "# merge - Big-Theta(n)\n",
    "\n",
    "def merge(A, p, q, r):\n",
    "    n1 = q - p + 1\n",
    "    n2 = r - q\n",
    "    L = []\n",
    "    R = []\n",
    "    for i in range (0, n1):\n",
    "        L.append(A[p + i])\n",
    "    for j in range (0, n2):\n",
    "        R.append(A[q + j + 1])\n",
    "    L.append(math.inf) # sentinel value\n",
    "    R.append(math.inf) # sentinel value\n",
    "    i = 0\n",
    "    j = 0\n",
    "    for k in range(p, r + 1):\n",
    "        if L[i] < R[j]:\n",
    "            A[k] = L[i]\n",
    "            i += 1\n",
    "        else: \n",
    "            A[k] = R[j]\n",
    "            j += 1\n",
    "\n",
    "\n",
    "# merge sort - Big_theta(nlg(n)\n",
    "\n",
    "def merge_sort(A, p, r):\n",
    "    if p < r:\n",
    "        q = math.floor((p + r)/2)\n",
    "        merge_sort(A, p, q)\n",
    "        merge_sort(A, q + 1, r)\n",
    "        merge(A, p, q, r)"
   ]
  },
  {
   "cell_type": "code",
   "execution_count": 156,
   "metadata": {},
   "outputs": [],
   "source": [
    "# 2.3.5\n",
    "\n",
    "# worst case running-time lg(n)\n",
    "\n",
    "def binary_search(A, p, q, v):\n",
    "    val = v\n",
    "    r = math.floor((p + q)/2)\n",
    "    \n",
    "    if p == q:\n",
    "        return \"not found\"\n",
    "    if v == A[r]:\n",
    "        return r\n",
    "    elif v < A[r]:\n",
    "        return binary_search(A, p, r, v)\n",
    "    else:\n",
    "        return binary_search(A, r + 1, q, v)"
   ]
  },
  {
   "cell_type": "code",
   "execution_count": 163,
   "metadata": {},
   "outputs": [],
   "source": [
    "A = [1,2,3,4,5]\n",
    "# for i in range(0,11):\n",
    "#     A.append(random.randint(1,20))\n",
    "# A.sort()\n",
    "# A"
   ]
  },
  {
   "cell_type": "code",
   "execution_count": 166,
   "metadata": {},
   "outputs": [
    {
     "data": {
      "text/plain": [
       "1"
      ]
     },
     "execution_count": 166,
     "metadata": {},
     "output_type": "execute_result"
    }
   ],
   "source": [
    "binary_search(A, 0 , 4, 1)"
   ]
  },
  {
   "cell_type": "code",
   "execution_count": 5,
   "metadata": {},
   "outputs": [
    {
     "name": "stdout",
     "output_type": "stream",
     "text": [
      "5\n",
      "4\n"
     ]
    }
   ],
   "source": [
    "for j in range(5,3,-1):\n",
    "    print(j)"
   ]
  },
  {
   "cell_type": "code",
   "execution_count": 20,
   "metadata": {},
   "outputs": [],
   "source": [
    "# 2.2 Correctness of Bubble-sort\n",
    "\n",
    "# Worst case and best case is Big_theta(n^2)\n",
    "\n",
    "def bubble_sort(A):\n",
    "    for i in range (0, len(A)):\n",
    "        for j in range (len(A)-1, i, -1):\n",
    "            if A[j] < A[j-1]:\n",
    "                temp = A[j]\n",
    "                A[j] = A[j - 1]\n",
    "                A[j-1] = temp\n",
    "            "
   ]
  },
  {
   "cell_type": "code",
   "execution_count": 21,
   "metadata": {},
   "outputs": [
    {
     "data": {
      "text/plain": [
       "[88,\n",
       " 25,\n",
       " 42,\n",
       " 8,\n",
       " 21,\n",
       " 36,\n",
       " 96,\n",
       " 50,\n",
       " 54,\n",
       " 93,\n",
       " 66,\n",
       " 62,\n",
       " 100,\n",
       " 23,\n",
       " 60,\n",
       " 45,\n",
       " 83,\n",
       " 39,\n",
       " 22,\n",
       " 11,\n",
       " 34,\n",
       " 3,\n",
       " 24,\n",
       " 31,\n",
       " 37,\n",
       " 40,\n",
       " 85,\n",
       " 90,\n",
       " 43,\n",
       " 56,\n",
       " 16]"
      ]
     },
     "execution_count": 21,
     "metadata": {},
     "output_type": "execute_result"
    }
   ],
   "source": [
    "A = []\n",
    "for i in range(0,31):\n",
    "    A.append(random.randint(1,100))\n",
    "A"
   ]
  },
  {
   "cell_type": "code",
   "execution_count": 22,
   "metadata": {},
   "outputs": [],
   "source": [
    "bubble_sort(A)"
   ]
  },
  {
   "cell_type": "code",
   "execution_count": 62,
   "metadata": {},
   "outputs": [],
   "source": [
    "# modfied merge sort - returns the number of inversions - runnign time Big-Theta(nlg(n))\n",
    "\n",
    "def modified_merge(A, p, q, r):\n",
    "    n1 = q - p + 1\n",
    "    n2 = r - q\n",
    "    L = []\n",
    "    R = []\n",
    "    inv = 0\n",
    "    for i in range (0, n1):\n",
    "        L.append(A[p + i])\n",
    "    for j in range (0, n2):\n",
    "        R.append(A[q + j + 1])\n",
    "    L.append(math.inf) # sentinel value\n",
    "    R.append(math.inf) # sentinel value\n",
    "    i = 0\n",
    "    j = 0\n",
    "    for k in range(p, r + 1):\n",
    "        if L[i] < R[j]:\n",
    "            A[k] = L[i]\n",
    "            i += 1\n",
    "        else: \n",
    "            A[k] = R[j]\n",
    "            inv += n1 - i\n",
    "            j += 1\n",
    "    return inv\n",
    "\n",
    "            \n",
    "def modified_merge_sort(A, p, r):\n",
    "    inv = 0\n",
    "    left = 0\n",
    "    right = 0\n",
    "    if p < r:\n",
    "        q = math.floor((p + r)/2)\n",
    "        left = modified_merge_sort(A, p, q)\n",
    "        right = modified_merge_sort(A, q + 1, r)\n",
    "        inv = left + right + modified_merge(A, p, q, r)\n",
    "    return inv"
   ]
  },
  {
   "cell_type": "code",
   "execution_count": 63,
   "metadata": {},
   "outputs": [
    {
     "data": {
      "text/plain": [
       "10"
      ]
     },
     "execution_count": 63,
     "metadata": {},
     "output_type": "execute_result"
    }
   ],
   "source": [
    "A = [5,4,3,2,1]\n",
    "modified_merge_sort(A, 0, 4)"
   ]
  },
  {
   "cell_type": "code",
   "execution_count": null,
   "metadata": {},
   "outputs": [],
   "source": []
  }
 ],
 "metadata": {
  "kernelspec": {
   "display_name": "Python 3",
   "language": "python",
   "name": "python3"
  },
  "language_info": {
   "codemirror_mode": {
    "name": "ipython",
    "version": 3
   },
   "file_extension": ".py",
   "mimetype": "text/x-python",
   "name": "python",
   "nbconvert_exporter": "python",
   "pygments_lexer": "ipython3",
   "version": "3.6.8"
  }
 },
 "nbformat": 4,
 "nbformat_minor": 2
}
